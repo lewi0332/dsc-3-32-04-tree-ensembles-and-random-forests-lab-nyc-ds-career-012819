{
 "cells": [
  {
   "cell_type": "markdown",
   "metadata": {},
   "source": [
    "# Tree Ensembles and Random Forests - Lab\n",
    "\n",
    "## Introduction\n",
    "\n",
    "In this lab, we'll create some popular Tree Ensemble models such as a Bag of Trees and a Random Forest to predict a person's salary based on information about them. \n",
    "\n",
    "## Objectives\n",
    "\n",
    "You will be able to:\n",
    "\n",
    "* Create, train, and make predictions with Bagging Classifiers\n",
    "* Create, train, and make predictions with a Random Forest\n",
    "* Understand and explain the concept of bagging as it applies to Ensemble Methods\n",
    "* Understand and explain the Subspace Sampling Method and it's use in Random Forests"
   ]
  },
  {
   "cell_type": "markdown",
   "metadata": {},
   "source": [
    "## 1. Importing the data"
   ]
  },
  {
   "cell_type": "markdown",
   "metadata": {},
   "source": [
    "In this lab, we'll be looking at a dataset of information about people and trying to predict if they make more than 50k/year.  The salary data set was extracted from the census bureau database and contains salary information. The goal is to use this data set and to try to draw conclusions regarding what drives salaries. More specifically, the target variable is categorical (> 50k; <= 50 k). Let's create a classification tree!\n",
    "\n",
    "To get started, run the cell below to import everything we'll need for this lab. "
   ]
  },
  {
   "cell_type": "code",
   "execution_count": 1,
   "metadata": {},
   "outputs": [],
   "source": [
    "import pandas as pd\n",
    "import numpy as np\n",
    "np.random.seed(0)\n",
    "import matplotlib.pyplot as plt\n",
    "from sklearn.model_selection import train_test_split\n",
    "from sklearn.metrics import accuracy_score, confusion_matrix, classification_report\n",
    "from sklearn.tree import DecisionTreeClassifier\n",
    "from sklearn.ensemble import BaggingClassifier, RandomForestClassifier"
   ]
  },
  {
   "cell_type": "markdown",
   "metadata": {},
   "source": [
    "Our dataset is stored in the file `salaries_final.csv`.  \n",
    "\n",
    "In the cell below, read in the dataset from this file and store it in a DataFrame.  Be sure to set the `index_col` parameter to `0`.  Then, display the head of the DataFrame to ensure that everything loaded correctly."
   ]
  },
  {
   "cell_type": "code",
   "execution_count": 2,
   "metadata": {},
   "outputs": [],
   "source": [
    "df = pd.read_csv('salaries_final.csv', index_col = 0 )"
   ]
  },
  {
   "cell_type": "code",
   "execution_count": null,
   "metadata": {},
   "outputs": [],
   "source": []
  },
  {
   "cell_type": "markdown",
   "metadata": {},
   "source": [
    "In total, there are 6 predictors, and one outcome variable, the target salary <= 50k/ >50k."
   ]
  },
  {
   "cell_type": "markdown",
   "metadata": {},
   "source": [
    "recall that the 6 predictors are:\n",
    "\n",
    "- `Age`: continuous.\n",
    "\n",
    "- `Education`: Categorical. Bachelors, Some-college, 11th, HS-grad, Prof-school, Assoc-acdm, Assoc-voc, 9th, 7th-8th, 12th, \n",
    "Masters, 1st-4th, 10th, Doctorate, 5th-6th, Preschool.\n",
    "\n",
    "- `Occupation`: Tech-support, Craft-repair, Other-service, Sales, Exec-managerial, Prof-specialty, Handlers-cleaners, Machine-op-inspct, Adm-clerical, Farming-fishing, Transport-moving, Priv-house-serv, Protective-serv, Armed-Forces.\n",
    "\n",
    "- `Relationship`: Wife, Own-child, Husband, Not-in-family, Other-relative, Unmarried.\n",
    "\n",
    "- `Race`: White, Asian-Pac-Islander, Amer-Indian-Eskimo, Other, Black.\n",
    "\n",
    "- `Sex`: Female, Male."
   ]
  },
  {
   "cell_type": "markdown",
   "metadata": {},
   "source": [
    "First, we'll need to store our `'Target'` column in a separate variable and drop it from the dataset.  \n",
    "\n",
    "Do this in the cell below. "
   ]
  },
  {
   "cell_type": "code",
   "execution_count": 3,
   "metadata": {},
   "outputs": [],
   "source": [
    "y = df.Target"
   ]
  },
  {
   "cell_type": "markdown",
   "metadata": {},
   "source": [
    "Next, we'll want to confirm that the Age column is currently encoded in a numeric data type, and not a string. By default, pandas will treat all columns encoded as strings as categorical columns, and create a dummy column for each unique value contained within that column.  We do not want a separate column for each age, so let's double check that the age column is encoded as an integer or a float.  \n",
    "\n",
    "In the cell below, check the `.dtypes` of the DataFrame to examine the data type of each column. "
   ]
  },
  {
   "cell_type": "code",
   "execution_count": 4,
   "metadata": {},
   "outputs": [],
   "source": [
    "df.drop(['Target'], axis=1, inplace=True)\n",
    "X = pd.get_dummies(df.iloc[:,1:])"
   ]
  },
  {
   "cell_type": "code",
   "execution_count": 5,
   "metadata": {},
   "outputs": [
    {
     "data": {
      "text/plain": [
       "<bound method NDFrame.head of        Education_10th  Education_11th  Education_12th  Education_1st-4th  \\\n",
       "0                   0               0               0                  0   \n",
       "1                   0               0               0                  0   \n",
       "2                   0               0               0                  0   \n",
       "3                   0               1               0                  0   \n",
       "4                   0               0               0                  0   \n",
       "5                   0               0               0                  0   \n",
       "6                   0               0               0                  0   \n",
       "7                   0               0               0                  0   \n",
       "8                   0               0               0                  0   \n",
       "9                   0               0               0                  0   \n",
       "10                  0               0               0                  0   \n",
       "11                  0               0               0                  0   \n",
       "12                  0               0               0                  0   \n",
       "13                  0               0               0                  0   \n",
       "14                  0               0               0                  0   \n",
       "15                  0               0               0                  0   \n",
       "16                  0               0               0                  0   \n",
       "17                  0               0               0                  0   \n",
       "18                  0               1               0                  0   \n",
       "19                  0               0               0                  0   \n",
       "20                  0               0               0                  0   \n",
       "21                  0               0               0                  0   \n",
       "22                  0               0               0                  0   \n",
       "23                  0               1               0                  0   \n",
       "24                  0               0               0                  0   \n",
       "25                  0               0               0                  0   \n",
       "26                  0               0               0                  0   \n",
       "27                  0               0               0                  0   \n",
       "28                  0               0               0                  0   \n",
       "29                  0               0               0                  0   \n",
       "...               ...             ...             ...                ...   \n",
       "32531               0               0               0                  0   \n",
       "32532               0               0               0                  0   \n",
       "32533               0               0               0                  0   \n",
       "32534               0               0               0                  0   \n",
       "32535               0               0               1                  0   \n",
       "32536               0               0               0                  0   \n",
       "32537               0               0               0                  0   \n",
       "32538               0               0               0                  0   \n",
       "32539               0               0               0                  0   \n",
       "32540               0               0               0                  0   \n",
       "32541               0               0               0                  0   \n",
       "32542               0               0               0                  0   \n",
       "32543               0               0               0                  0   \n",
       "32544               0               0               0                  0   \n",
       "32545               0               0               0                  0   \n",
       "32546               0               0               0                  0   \n",
       "32547               0               0               0                  0   \n",
       "32548               0               0               0                  0   \n",
       "32549               0               0               0                  0   \n",
       "32550               0               0               0                  0   \n",
       "32551               1               0               0                  0   \n",
       "32552               0               0               0                  0   \n",
       "32553               0               0               0                  0   \n",
       "32554               0               0               0                  0   \n",
       "32555               0               0               0                  0   \n",
       "32556               0               0               0                  0   \n",
       "32557               0               0               0                  0   \n",
       "32558               0               0               0                  0   \n",
       "32559               0               0               0                  0   \n",
       "32560               0               0               0                  0   \n",
       "\n",
       "       Education_5th-6th  Education_7th-8th  Education_9th  \\\n",
       "0                      0                  0              0   \n",
       "1                      0                  0              0   \n",
       "2                      0                  0              0   \n",
       "3                      0                  0              0   \n",
       "4                      0                  0              0   \n",
       "5                      0                  0              0   \n",
       "6                      0                  0              1   \n",
       "7                      0                  0              0   \n",
       "8                      0                  0              0   \n",
       "9                      0                  0              0   \n",
       "10                     0                  0              0   \n",
       "11                     0                  0              0   \n",
       "12                     0                  0              0   \n",
       "13                     0                  0              0   \n",
       "14                     0                  0              0   \n",
       "15                     0                  1              0   \n",
       "16                     0                  0              0   \n",
       "17                     0                  0              0   \n",
       "18                     0                  0              0   \n",
       "19                     0                  0              0   \n",
       "20                     0                  0              0   \n",
       "21                     0                  0              0   \n",
       "22                     0                  0              1   \n",
       "23                     0                  0              0   \n",
       "24                     0                  0              0   \n",
       "25                     0                  0              0   \n",
       "26                     0                  0              0   \n",
       "27                     0                  0              0   \n",
       "28                     0                  0              0   \n",
       "29                     0                  0              0   \n",
       "...                  ...                ...            ...   \n",
       "32531                  0                  0              0   \n",
       "32532                  0                  0              0   \n",
       "32533                  0                  0              0   \n",
       "32534                  0                  0              0   \n",
       "32535                  0                  0              0   \n",
       "32536                  0                  0              0   \n",
       "32537                  0                  0              0   \n",
       "32538                  0                  0              0   \n",
       "32539                  0                  0              0   \n",
       "32540                  0                  0              0   \n",
       "32541                  0                  0              0   \n",
       "32542                  0                  0              0   \n",
       "32543                  0                  0              0   \n",
       "32544                  0                  0              0   \n",
       "32545                  0                  0              0   \n",
       "32546                  0                  0              0   \n",
       "32547                  0                  0              0   \n",
       "32548                  0                  0              0   \n",
       "32549                  0                  0              0   \n",
       "32550                  0                  0              0   \n",
       "32551                  0                  0              0   \n",
       "32552                  0                  0              0   \n",
       "32553                  0                  0              0   \n",
       "32554                  0                  0              0   \n",
       "32555                  0                  0              0   \n",
       "32556                  0                  0              0   \n",
       "32557                  0                  0              0   \n",
       "32558                  0                  0              0   \n",
       "32559                  0                  0              0   \n",
       "32560                  0                  0              0   \n",
       "\n",
       "       Education_Assoc-acdm  Education_Assoc-voc  Education_Bachelors  \\\n",
       "0                         0                    0                    1   \n",
       "1                         0                    0                    1   \n",
       "2                         0                    0                    0   \n",
       "3                         0                    0                    0   \n",
       "4                         0                    0                    1   \n",
       "5                         0                    0                    0   \n",
       "6                         0                    0                    0   \n",
       "7                         0                    0                    0   \n",
       "8                         0                    0                    0   \n",
       "9                         0                    0                    1   \n",
       "10                        0                    0                    0   \n",
       "11                        0                    0                    1   \n",
       "12                        0                    0                    1   \n",
       "13                        1                    0                    0   \n",
       "14                        0                    1                    0   \n",
       "15                        0                    0                    0   \n",
       "16                        0                    0                    0   \n",
       "17                        0                    0                    0   \n",
       "18                        0                    0                    0   \n",
       "19                        0                    0                    0   \n",
       "20                        0                    0                    0   \n",
       "21                        0                    0                    0   \n",
       "22                        0                    0                    0   \n",
       "23                        0                    0                    0   \n",
       "24                        0                    0                    0   \n",
       "25                        0                    0                    1   \n",
       "26                        0                    0                    0   \n",
       "27                        0                    0                    0   \n",
       "28                        0                    0                    0   \n",
       "29                        0                    0                    0   \n",
       "...                     ...                  ...                  ...   \n",
       "32531                     0                    0                    1   \n",
       "32532                     0                    0                    0   \n",
       "32533                     0                    0                    1   \n",
       "32534                     0                    0                    0   \n",
       "32535                     0                    0                    0   \n",
       "32536                     0                    0                    1   \n",
       "32537                     0                    0                    0   \n",
       "32538                     0                    0                    1   \n",
       "32539                     0                    0                    0   \n",
       "32540                     0                    0                    0   \n",
       "32541                     0                    0                    0   \n",
       "32542                     0                    0                    0   \n",
       "32543                     1                    0                    0   \n",
       "32544                     0                    0                    0   \n",
       "32545                     1                    0                    0   \n",
       "32546                     1                    0                    0   \n",
       "32547                     0                    0                    0   \n",
       "32548                     0                    0                    0   \n",
       "32549                     0                    0                    0   \n",
       "32550                     0                    0                    0   \n",
       "32551                     0                    0                    0   \n",
       "32552                     0                    1                    0   \n",
       "32553                     0                    0                    0   \n",
       "32554                     0                    0                    0   \n",
       "32555                     0                    0                    0   \n",
       "32556                     1                    0                    0   \n",
       "32557                     0                    0                    0   \n",
       "32558                     0                    0                    0   \n",
       "32559                     0                    0                    0   \n",
       "32560                     0                    0                    0   \n",
       "\n",
       "         ...     Relationship_Own-child  Relationship_Unmarried  \\\n",
       "0        ...                          0                       0   \n",
       "1        ...                          0                       0   \n",
       "2        ...                          0                       0   \n",
       "3        ...                          0                       0   \n",
       "4        ...                          0                       0   \n",
       "5        ...                          0                       0   \n",
       "6        ...                          0                       0   \n",
       "7        ...                          0                       0   \n",
       "8        ...                          0                       0   \n",
       "9        ...                          0                       0   \n",
       "10       ...                          0                       0   \n",
       "11       ...                          0                       0   \n",
       "12       ...                          1                       0   \n",
       "13       ...                          0                       0   \n",
       "14       ...                          0                       0   \n",
       "15       ...                          0                       0   \n",
       "16       ...                          1                       0   \n",
       "17       ...                          0                       1   \n",
       "18       ...                          0                       0   \n",
       "19       ...                          0                       1   \n",
       "20       ...                          0                       0   \n",
       "21       ...                          0                       1   \n",
       "22       ...                          0                       0   \n",
       "23       ...                          0                       0   \n",
       "24       ...                          0                       1   \n",
       "25       ...                          0                       0   \n",
       "26       ...                          1                       0   \n",
       "27       ...                          0                       0   \n",
       "28       ...                          0                       0   \n",
       "29       ...                          0                       0   \n",
       "...      ...                        ...                     ...   \n",
       "32531    ...                          0                       0   \n",
       "32532    ...                          0                       0   \n",
       "32533    ...                          0                       0   \n",
       "32534    ...                          0                       1   \n",
       "32535    ...                          1                       0   \n",
       "32536    ...                          0                       0   \n",
       "32537    ...                          0                       0   \n",
       "32538    ...                          0                       1   \n",
       "32539    ...                          0                       0   \n",
       "32540    ...                          1                       0   \n",
       "32541    ...                          0                       0   \n",
       "32542    ...                          0                       0   \n",
       "32543    ...                          0                       1   \n",
       "32544    ...                          0                       0   \n",
       "32545    ...                          0                       0   \n",
       "32546    ...                          0                       0   \n",
       "32547    ...                          0                       0   \n",
       "32548    ...                          0                       0   \n",
       "32549    ...                          0                       0   \n",
       "32550    ...                          0                       0   \n",
       "32551    ...                          0                       0   \n",
       "32552    ...                          0                       0   \n",
       "32553    ...                          0                       0   \n",
       "32554    ...                          0                       0   \n",
       "32555    ...                          0                       0   \n",
       "32556    ...                          0                       0   \n",
       "32557    ...                          0                       0   \n",
       "32558    ...                          0                       1   \n",
       "32559    ...                          1                       0   \n",
       "32560    ...                          0                       0   \n",
       "\n",
       "       Relationship_Wife  Race_Amer-Indian-Eskimo  Race_Asian-Pac-Islander  \\\n",
       "0                      0                        0                        0   \n",
       "1                      0                        0                        0   \n",
       "2                      0                        0                        0   \n",
       "3                      0                        0                        0   \n",
       "4                      1                        0                        0   \n",
       "5                      1                        0                        0   \n",
       "6                      0                        0                        0   \n",
       "7                      0                        0                        0   \n",
       "8                      0                        0                        0   \n",
       "9                      0                        0                        0   \n",
       "10                     0                        0                        0   \n",
       "11                     0                        0                        1   \n",
       "12                     0                        0                        0   \n",
       "13                     0                        0                        0   \n",
       "14                     0                        0                        1   \n",
       "15                     0                        1                        0   \n",
       "16                     0                        0                        0   \n",
       "17                     0                        0                        0   \n",
       "18                     0                        0                        0   \n",
       "19                     0                        0                        0   \n",
       "20                     0                        0                        0   \n",
       "21                     0                        0                        0   \n",
       "22                     0                        0                        0   \n",
       "23                     0                        0                        0   \n",
       "24                     0                        0                        0   \n",
       "25                     0                        0                        0   \n",
       "26                     0                        0                        0   \n",
       "27                     0                        0                        1   \n",
       "28                     0                        0                        0   \n",
       "29                     0                        0                        0   \n",
       "...                  ...                      ...                      ...   \n",
       "32531                  0                        0                        1   \n",
       "32532                  0                        0                        0   \n",
       "32533                  0                        0                        1   \n",
       "32534                  0                        0                        0   \n",
       "32535                  0                        0                        0   \n",
       "32536                  0                        0                        0   \n",
       "32537                  0                        0                        0   \n",
       "32538                  0                        0                        0   \n",
       "32539                  0                        0                        0   \n",
       "32540                  0                        0                        0   \n",
       "32541                  0                        0                        0   \n",
       "32542                  0                        0                        0   \n",
       "32543                  0                        0                        0   \n",
       "32544                  0                        0                        0   \n",
       "32545                  1                        0                        0   \n",
       "32546                  0                        0                        0   \n",
       "32547                  0                        0                        0   \n",
       "32548                  0                        0                        0   \n",
       "32549                  0                        0                        0   \n",
       "32550                  0                        0                        0   \n",
       "32551                  0                        1                        0   \n",
       "32552                  0                        0                        0   \n",
       "32553                  0                        0                        1   \n",
       "32554                  0                        0                        0   \n",
       "32555                  0                        0                        0   \n",
       "32556                  1                        0                        0   \n",
       "32557                  0                        0                        0   \n",
       "32558                  0                        0                        0   \n",
       "32559                  0                        0                        0   \n",
       "32560                  1                        0                        0   \n",
       "\n",
       "       Race_Black  Race_Other  Race_White  Sex_Female  Sex_Male  \n",
       "0               0           0           1           0         1  \n",
       "1               0           0           1           0         1  \n",
       "2               0           0           1           0         1  \n",
       "3               1           0           0           0         1  \n",
       "4               1           0           0           1         0  \n",
       "5               0           0           1           1         0  \n",
       "6               1           0           0           1         0  \n",
       "7               0           0           1           0         1  \n",
       "8               0           0           1           1         0  \n",
       "9               0           0           1           0         1  \n",
       "10              1           0           0           0         1  \n",
       "11              0           0           0           0         1  \n",
       "12              0           0           1           1         0  \n",
       "13              1           0           0           0         1  \n",
       "14              0           0           0           0         1  \n",
       "15              0           0           0           0         1  \n",
       "16              0           0           1           0         1  \n",
       "17              0           0           1           0         1  \n",
       "18              0           0           1           0         1  \n",
       "19              0           0           1           1         0  \n",
       "20              0           0           1           0         1  \n",
       "21              1           0           0           1         0  \n",
       "22              1           0           0           0         1  \n",
       "23              0           0           1           0         1  \n",
       "24              0           0           1           1         0  \n",
       "25              0           0           1           0         1  \n",
       "26              0           0           1           0         1  \n",
       "27              0           0           0           0         1  \n",
       "28              0           0           1           0         1  \n",
       "29              0           0           1           0         1  \n",
       "...           ...         ...         ...         ...       ...  \n",
       "32531           0           0           0           1         0  \n",
       "32532           0           0           1           0         1  \n",
       "32533           0           0           0           0         1  \n",
       "32534           0           0           1           1         0  \n",
       "32535           1           0           0           0         1  \n",
       "32536           0           0           1           1         0  \n",
       "32537           1           0           0           0         1  \n",
       "32538           1           0           0           1         0  \n",
       "32539           0           0           1           0         1  \n",
       "32540           0           0           1           1         0  \n",
       "32541           1           0           0           1         0  \n",
       "32542           0           0           1           0         1  \n",
       "32543           0           0           1           1         0  \n",
       "32544           0           1           0           1         0  \n",
       "32545           0           0           1           1         0  \n",
       "32546           0           0           1           1         0  \n",
       "32547           0           0           1           0         1  \n",
       "32548           0           0           1           0         1  \n",
       "32549           0           0           1           1         0  \n",
       "32550           0           0           1           0         1  \n",
       "32551           0           0           0           0         1  \n",
       "32552           0           0           1           0         1  \n",
       "32553           0           0           0           0         1  \n",
       "32554           0           0           1           0         1  \n",
       "32555           0           0           1           0         1  \n",
       "32556           0           0           1           1         0  \n",
       "32557           0           0           1           0         1  \n",
       "32558           0           0           1           1         0  \n",
       "32559           0           0           1           0         1  \n",
       "32560           0           0           1           1         0  \n",
       "\n",
       "[32561 rows x 44 columns]>"
      ]
     },
     "execution_count": 5,
     "metadata": {},
     "output_type": "execute_result"
    }
   ],
   "source": [
    "X.head"
   ]
  },
  {
   "cell_type": "code",
   "execution_count": 6,
   "metadata": {},
   "outputs": [],
   "source": [
    "X['Age'] = df.Age"
   ]
  },
  {
   "cell_type": "code",
   "execution_count": 7,
   "metadata": {},
   "outputs": [
    {
     "data": {
      "text/html": [
       "<div>\n",
       "<style scoped>\n",
       "    .dataframe tbody tr th:only-of-type {\n",
       "        vertical-align: middle;\n",
       "    }\n",
       "\n",
       "    .dataframe tbody tr th {\n",
       "        vertical-align: top;\n",
       "    }\n",
       "\n",
       "    .dataframe thead th {\n",
       "        text-align: right;\n",
       "    }\n",
       "</style>\n",
       "<table border=\"1\" class=\"dataframe\">\n",
       "  <thead>\n",
       "    <tr style=\"text-align: right;\">\n",
       "      <th></th>\n",
       "      <th>Education_10th</th>\n",
       "      <th>Education_11th</th>\n",
       "      <th>Education_12th</th>\n",
       "      <th>Education_1st-4th</th>\n",
       "      <th>Education_5th-6th</th>\n",
       "      <th>Education_7th-8th</th>\n",
       "      <th>Education_9th</th>\n",
       "      <th>Education_Assoc-acdm</th>\n",
       "      <th>Education_Assoc-voc</th>\n",
       "      <th>Education_Bachelors</th>\n",
       "      <th>...</th>\n",
       "      <th>Relationship_Unmarried</th>\n",
       "      <th>Relationship_Wife</th>\n",
       "      <th>Race_Amer-Indian-Eskimo</th>\n",
       "      <th>Race_Asian-Pac-Islander</th>\n",
       "      <th>Race_Black</th>\n",
       "      <th>Race_Other</th>\n",
       "      <th>Race_White</th>\n",
       "      <th>Sex_Female</th>\n",
       "      <th>Sex_Male</th>\n",
       "      <th>Age</th>\n",
       "    </tr>\n",
       "  </thead>\n",
       "  <tbody>\n",
       "    <tr>\n",
       "      <th>0</th>\n",
       "      <td>0</td>\n",
       "      <td>0</td>\n",
       "      <td>0</td>\n",
       "      <td>0</td>\n",
       "      <td>0</td>\n",
       "      <td>0</td>\n",
       "      <td>0</td>\n",
       "      <td>0</td>\n",
       "      <td>0</td>\n",
       "      <td>1</td>\n",
       "      <td>...</td>\n",
       "      <td>0</td>\n",
       "      <td>0</td>\n",
       "      <td>0</td>\n",
       "      <td>0</td>\n",
       "      <td>0</td>\n",
       "      <td>0</td>\n",
       "      <td>1</td>\n",
       "      <td>0</td>\n",
       "      <td>1</td>\n",
       "      <td>39</td>\n",
       "    </tr>\n",
       "    <tr>\n",
       "      <th>1</th>\n",
       "      <td>0</td>\n",
       "      <td>0</td>\n",
       "      <td>0</td>\n",
       "      <td>0</td>\n",
       "      <td>0</td>\n",
       "      <td>0</td>\n",
       "      <td>0</td>\n",
       "      <td>0</td>\n",
       "      <td>0</td>\n",
       "      <td>1</td>\n",
       "      <td>...</td>\n",
       "      <td>0</td>\n",
       "      <td>0</td>\n",
       "      <td>0</td>\n",
       "      <td>0</td>\n",
       "      <td>0</td>\n",
       "      <td>0</td>\n",
       "      <td>1</td>\n",
       "      <td>0</td>\n",
       "      <td>1</td>\n",
       "      <td>50</td>\n",
       "    </tr>\n",
       "    <tr>\n",
       "      <th>2</th>\n",
       "      <td>0</td>\n",
       "      <td>0</td>\n",
       "      <td>0</td>\n",
       "      <td>0</td>\n",
       "      <td>0</td>\n",
       "      <td>0</td>\n",
       "      <td>0</td>\n",
       "      <td>0</td>\n",
       "      <td>0</td>\n",
       "      <td>0</td>\n",
       "      <td>...</td>\n",
       "      <td>0</td>\n",
       "      <td>0</td>\n",
       "      <td>0</td>\n",
       "      <td>0</td>\n",
       "      <td>0</td>\n",
       "      <td>0</td>\n",
       "      <td>1</td>\n",
       "      <td>0</td>\n",
       "      <td>1</td>\n",
       "      <td>38</td>\n",
       "    </tr>\n",
       "    <tr>\n",
       "      <th>3</th>\n",
       "      <td>0</td>\n",
       "      <td>1</td>\n",
       "      <td>0</td>\n",
       "      <td>0</td>\n",
       "      <td>0</td>\n",
       "      <td>0</td>\n",
       "      <td>0</td>\n",
       "      <td>0</td>\n",
       "      <td>0</td>\n",
       "      <td>0</td>\n",
       "      <td>...</td>\n",
       "      <td>0</td>\n",
       "      <td>0</td>\n",
       "      <td>0</td>\n",
       "      <td>0</td>\n",
       "      <td>1</td>\n",
       "      <td>0</td>\n",
       "      <td>0</td>\n",
       "      <td>0</td>\n",
       "      <td>1</td>\n",
       "      <td>53</td>\n",
       "    </tr>\n",
       "    <tr>\n",
       "      <th>4</th>\n",
       "      <td>0</td>\n",
       "      <td>0</td>\n",
       "      <td>0</td>\n",
       "      <td>0</td>\n",
       "      <td>0</td>\n",
       "      <td>0</td>\n",
       "      <td>0</td>\n",
       "      <td>0</td>\n",
       "      <td>0</td>\n",
       "      <td>1</td>\n",
       "      <td>...</td>\n",
       "      <td>0</td>\n",
       "      <td>1</td>\n",
       "      <td>0</td>\n",
       "      <td>0</td>\n",
       "      <td>1</td>\n",
       "      <td>0</td>\n",
       "      <td>0</td>\n",
       "      <td>1</td>\n",
       "      <td>0</td>\n",
       "      <td>28</td>\n",
       "    </tr>\n",
       "  </tbody>\n",
       "</table>\n",
       "<p>5 rows × 45 columns</p>\n",
       "</div>"
      ],
      "text/plain": [
       "   Education_10th  Education_11th  Education_12th  Education_1st-4th  \\\n",
       "0               0               0               0                  0   \n",
       "1               0               0               0                  0   \n",
       "2               0               0               0                  0   \n",
       "3               0               1               0                  0   \n",
       "4               0               0               0                  0   \n",
       "\n",
       "   Education_5th-6th  Education_7th-8th  Education_9th  Education_Assoc-acdm  \\\n",
       "0                  0                  0              0                     0   \n",
       "1                  0                  0              0                     0   \n",
       "2                  0                  0              0                     0   \n",
       "3                  0                  0              0                     0   \n",
       "4                  0                  0              0                     0   \n",
       "\n",
       "   Education_Assoc-voc  Education_Bachelors ...   Relationship_Unmarried  \\\n",
       "0                    0                    1 ...                        0   \n",
       "1                    0                    1 ...                        0   \n",
       "2                    0                    0 ...                        0   \n",
       "3                    0                    0 ...                        0   \n",
       "4                    0                    1 ...                        0   \n",
       "\n",
       "   Relationship_Wife  Race_Amer-Indian-Eskimo  Race_Asian-Pac-Islander  \\\n",
       "0                  0                        0                        0   \n",
       "1                  0                        0                        0   \n",
       "2                  0                        0                        0   \n",
       "3                  0                        0                        0   \n",
       "4                  1                        0                        0   \n",
       "\n",
       "   Race_Black  Race_Other  Race_White  Sex_Female  Sex_Male  Age  \n",
       "0           0           0           1           0         1   39  \n",
       "1           0           0           1           0         1   50  \n",
       "2           0           0           1           0         1   38  \n",
       "3           1           0           0           0         1   53  \n",
       "4           1           0           0           1         0   28  \n",
       "\n",
       "[5 rows x 45 columns]"
      ]
     },
     "execution_count": 7,
     "metadata": {},
     "output_type": "execute_result"
    }
   ],
   "source": [
    "X.head()"
   ]
  },
  {
   "cell_type": "markdown",
   "metadata": {},
   "source": [
    "Great.  Now we're ready to create some dummy columns and deal with our categorical variables.  \n",
    "\n",
    "In the cell below, use pandas to create dummy columns for each of categorical variables.  If you're unsure of how to do this, check out the [documentation](https://pandas.pydata.org/pandas-docs/stable/generated/pandas.get_dummies.html).  "
   ]
  },
  {
   "cell_type": "code",
   "execution_count": 8,
   "metadata": {},
   "outputs": [],
   "source": [
    "data = None"
   ]
  },
  {
   "cell_type": "markdown",
   "metadata": {},
   "source": [
    "Now, split your data and target into training and testing sets using the appropriate method from sklearn. "
   ]
  },
  {
   "cell_type": "code",
   "execution_count": 9,
   "metadata": {},
   "outputs": [],
   "source": [
    "X_train, X_test, y_train, y_test = train_test_split(X, y, test_size = 0.2)"
   ]
  },
  {
   "cell_type": "markdown",
   "metadata": {},
   "source": [
    "## 2. Let's rebuild a \"regular\" tree as a baseline\n",
    "\n",
    "We'll begin by fitting a regular Decision Tree Classifier, so that we have something to compare our ensemble methods to.  "
   ]
  },
  {
   "cell_type": "markdown",
   "metadata": {},
   "source": [
    "### 2.1 Building the tree\n",
    "\n",
    "In the cell below, create a Decision Tree Classifier.  Set the `criterion` to `'gini'`, and a `max_depth` of `5`.  Then, fit the tree to our training data and labels.  "
   ]
  },
  {
   "cell_type": "code",
   "execution_count": 40,
   "metadata": {},
   "outputs": [
    {
     "data": {
      "text/plain": [
       "DecisionTreeClassifier(class_weight=None, criterion='gini', max_depth=5,\n",
       "            max_features=None, max_leaf_nodes=None,\n",
       "            min_impurity_decrease=0.0, min_impurity_split=None,\n",
       "            min_samples_leaf=1, min_samples_split=2,\n",
       "            min_weight_fraction_leaf=0.0, presort=False, random_state=None,\n",
       "            splitter='best')"
      ]
     },
     "execution_count": 40,
     "metadata": {},
     "output_type": "execute_result"
    }
   ],
   "source": [
    "tree_clf = DecisionTreeClassifier(criterion='gini', splitter='best', max_depth=5, \n",
    "                                  min_samples_split=2, min_samples_leaf=1, min_weight_fraction_leaf=0.0, \n",
    "                                  max_features=None, random_state=None, max_leaf_nodes=None, \n",
    "                                  min_impurity_decrease=0.0, min_impurity_split=None, class_weight=None, \n",
    "                                  presort=False)\n",
    "tree_clf.fit(X_train, y_train)\n"
   ]
  },
  {
   "cell_type": "markdown",
   "metadata": {},
   "source": [
    "### 2.1 Feature importance\n",
    "\n",
    "Let's quickly examine how important each feature ended up being in our Decision Tree model.  Check the `feature_importances_` attribute of our trained model to see what it displays. "
   ]
  },
  {
   "cell_type": "code",
   "execution_count": 41,
   "metadata": {},
   "outputs": [
    {
     "data": {
      "text/plain": [
       "array([0.00000000e+00, 0.00000000e+00, 0.00000000e+00, 0.00000000e+00,\n",
       "       0.00000000e+00, 0.00000000e+00, 0.00000000e+00, 0.00000000e+00,\n",
       "       0.00000000e+00, 8.88513955e-02, 1.45600810e-02, 5.36083926e-03,\n",
       "       2.61862408e-02, 0.00000000e+00, 0.00000000e+00, 0.00000000e+00,\n",
       "       0.00000000e+00, 0.00000000e+00, 0.00000000e+00, 0.00000000e+00,\n",
       "       8.37013569e-02, 0.00000000e+00, 0.00000000e+00, 0.00000000e+00,\n",
       "       0.00000000e+00, 0.00000000e+00, 8.81993119e-02, 0.00000000e+00,\n",
       "       0.00000000e+00, 0.00000000e+00, 0.00000000e+00, 5.05512032e-01,\n",
       "       0.00000000e+00, 0.00000000e+00, 0.00000000e+00, 0.00000000e+00,\n",
       "       1.20158505e-01, 0.00000000e+00, 3.07961647e-04, 0.00000000e+00,\n",
       "       0.00000000e+00, 0.00000000e+00, 0.00000000e+00, 0.00000000e+00,\n",
       "       6.71622766e-02])"
      ]
     },
     "execution_count": 41,
     "metadata": {},
     "output_type": "execute_result"
    }
   ],
   "source": [
    "tree_clf.feature_importances_"
   ]
  },
  {
   "cell_type": "markdown",
   "metadata": {},
   "source": [
    "That matrix isn't very helpful, but a visualization of the data it contains could be.  Run the cell below to plot a visualization of the feature importances for this model. Run the cell below to create a visualization of the data stored inside of a model's `.feature_importances_` attribute."
   ]
  },
  {
   "cell_type": "code",
   "execution_count": 43,
   "metadata": {},
   "outputs": [
    {
     "data": {
      "image/png": "[encoded data removed]",
      "text/plain": [
       "<Figure size 576x576 with 1 Axes>"
      ]
     },
     "metadata": {
      "needs_background": "light"
     },
     "output_type": "display_data"
    }
   ],
   "source": [
    "def plot_feature_importances(model):\n",
    "    n_features = X_train.shape[1]\n",
    "    plt.figure(figsize=(8,8))\n",
    "    plt.barh(range(n_features), model.feature_importances_, align='center') \n",
    "    plt.yticks(np.arange(n_features), X_train.columns.values) \n",
    "    plt.xlabel(\"Feature importance\")\n",
    "    plt.ylabel(\"Feature\")\n",
    "\n",
    "plot_feature_importances(tree_clf)"
   ]
  },
  {
   "cell_type": "markdown",
   "metadata": {},
   "source": [
    "### 2.3 Model performance\n",
    "\n",
    "Next, let's see how well our model performed on the data. \n",
    "\n",
    "In the cell below:\n",
    "\n",
    "* Use the classifier to create predictions on our test set. \n",
    "* Print out a `confusion_matrix` of our test set predictions.\n",
    "* Print out a `classification_report` of our test set predictions."
   ]
  },
  {
   "cell_type": "code",
   "execution_count": 44,
   "metadata": {},
   "outputs": [],
   "source": [
    "pred = tree_clf.predict(X_test)\n"
   ]
  },
  {
   "cell_type": "markdown",
   "metadata": {},
   "source": [
    "Now, let's check the model's accuracy. Run the cell below to display the test set accuracy of the model. "
   ]
  },
  {
   "cell_type": "code",
   "execution_count": 46,
   "metadata": {},
   "outputs": [
    {
     "name": "stdout",
     "output_type": "stream",
     "text": [
      "Testing Accuracy for Decision Tree Classifier: 81.67%\n"
     ]
    }
   ],
   "source": [
    "print(\"Testing Accuracy for Decision Tree Classifier: {:.4}%\".format(accuracy_score(y_test, pred) * 100))"
   ]
  },
  {
   "cell_type": "markdown",
   "metadata": {},
   "source": [
    "## 3. Bagged trees\n",
    "\n",
    "The first Ensemble approach we'll try is a Bag of Trees.  This will make use of **_Bagging_**, along with a number of Decision Tree Classifier models.  "
   ]
  },
  {
   "cell_type": "markdown",
   "metadata": {},
   "source": [
    "Now, let's create a `BaggingClassifier`.  In the first parameter spot, initialize a `DecisionTreeClassifier` and set the same parameters that we did above for `criterion` and `max_depth`.  Also set the `n_estimators` parameter for our Bagging Classifier to `20`. "
   ]
  },
  {
   "cell_type": "code",
   "execution_count": 47,
   "metadata": {},
   "outputs": [],
   "source": [
    "bagged_tree = BaggingClassifier(DecisionTreeClassifier(criterion='gini', max_depth=5), n_estimators=20)"
   ]
  },
  {
   "cell_type": "markdown",
   "metadata": {},
   "source": [
    "Great! Now, fit it to our training data. "
   ]
  },
  {
   "cell_type": "code",
   "execution_count": 48,
   "metadata": {},
   "outputs": [
    {
     "data": {
      "text/plain": [
       "BaggingClassifier(base_estimator=DecisionTreeClassifier(class_weight=None, criterion='gini', max_depth=5,\n",
       "            max_features=None, max_leaf_nodes=None,\n",
       "            min_impurity_decrease=0.0, min_impurity_split=None,\n",
       "            min_samples_leaf=1, min_samples_split=2,\n",
       "            min_weight_fraction_leaf=0.0, presort=False, random_state=None,\n",
       "            splitter='best'),\n",
       "         bootstrap=True, bootstrap_features=False, max_features=1.0,\n",
       "         max_samples=1.0, n_estimators=20, n_jobs=None, oob_score=False,\n",
       "         random_state=None, verbose=0, warm_start=False)"
      ]
     },
     "execution_count": 48,
     "metadata": {},
     "output_type": "execute_result"
    }
   ],
   "source": [
    "bagged_tree.fit(X_train, y_train)"
   ]
  },
  {
   "cell_type": "markdown",
   "metadata": {},
   "source": [
    "Checking the accuracy of a model is such a common task that all (supervised learning) models contain a `score()` method that wraps the `accuracy_score` helper method we've been using.  All we have to do is pass it a dataset and the corresponding labels and it will return the accuracy score for those data/labels.  \n",
    "\n",
    "Let's use it to get the training accuracy of our model. In the cell below, call the `.score()` method on our Bagging model and pass in our training data and training labels as parameters. "
   ]
  },
  {
   "cell_type": "code",
   "execution_count": 50,
   "metadata": {},
   "outputs": [
    {
     "data": {
      "text/plain": [
       "0.82754914004914"
      ]
     },
     "execution_count": 50,
     "metadata": {},
     "output_type": "execute_result"
    }
   ],
   "source": [
    "bagged_tree.score(X_train, y_train)"
   ]
  },
  {
   "cell_type": "markdown",
   "metadata": {},
   "source": [
    "Now, let's check the accuracy score that really matters--our testing accuracy.  This time, pass in our testing data and labels to see how the model did.  "
   ]
  },
  {
   "cell_type": "code",
   "execution_count": 51,
   "metadata": {},
   "outputs": [
    {
     "data": {
      "text/plain": [
       "0.8206663595885153"
      ]
     },
     "execution_count": 51,
     "metadata": {},
     "output_type": "execute_result"
    }
   ],
   "source": [
    "bagged_tree.score(X_test, y_test)"
   ]
  },
  {
   "cell_type": "markdown",
   "metadata": {},
   "source": [
    "## 4. Random forests\n",
    "\n",
    "Another popular ensemble method is the **_Random Forest_** model.  Let's fit a Random Forest Classifier next and see how it measures up compared to all the others. "
   ]
  },
  {
   "cell_type": "markdown",
   "metadata": {},
   "source": [
    "### 4.1 Fitting a random forests model"
   ]
  },
  {
   "cell_type": "markdown",
   "metadata": {},
   "source": [
    "In the cell below, create a `RandomForestClassifier`, and set the number estimators to `100` and the max depth to `5`. Then, fit the model to our training data. "
   ]
  },
  {
   "cell_type": "code",
   "execution_count": 68,
   "metadata": {},
   "outputs": [
    {
     "data": {
      "text/plain": [
       "RandomForestClassifier(bootstrap=True, class_weight=None, criterion='gini',\n",
       "            max_depth=6, max_features='auto', max_leaf_nodes=None,\n",
       "            min_impurity_decrease=0.0, min_impurity_split=None,\n",
       "            min_samples_leaf=1, min_samples_split=2,\n",
       "            min_weight_fraction_leaf=0.0, n_estimators=100, n_jobs=None,\n",
       "            oob_score=False, random_state=None, verbose=0,\n",
       "            warm_start=False)"
      ]
     },
     "execution_count": 68,
     "metadata": {},
     "output_type": "execute_result"
    }
   ],
   "source": [
    "forest = RandomForestClassifier(n_estimators=100, criterion='gini', max_depth=6, min_samples_split=2, \n",
    "                                min_samples_leaf=1, min_weight_fraction_leaf=0.0, max_features='auto', max_leaf_nodes=None, \n",
    "                                min_impurity_decrease=0.0, min_impurity_split=None, bootstrap=True, oob_score=False, n_jobs=None, \n",
    "                                random_state=None, verbose=0, warm_start=False, class_weight=None)\n",
    "forest.fit(X_train, y_train)"
   ]
  },
  {
   "cell_type": "markdown",
   "metadata": {},
   "source": [
    "Now, let's check the training and testing accuracy of the model using its `.score()` method."
   ]
  },
  {
   "cell_type": "code",
   "execution_count": 69,
   "metadata": {},
   "outputs": [
    {
     "data": {
      "text/plain": [
       "0.8180666461916462"
      ]
     },
     "execution_count": 69,
     "metadata": {},
     "output_type": "execute_result"
    }
   ],
   "source": [
    "forest.score(X_train, y_train)"
   ]
  },
  {
   "cell_type": "code",
   "execution_count": 70,
   "metadata": {},
   "outputs": [
    {
     "data": {
      "text/plain": [
       "0.8119146322739137"
      ]
     },
     "execution_count": 70,
     "metadata": {},
     "output_type": "execute_result"
    }
   ],
   "source": [
    "forest.score(X_test, y_test)"
   ]
  },
  {
   "cell_type": "markdown",
   "metadata": {},
   "source": [
    "### 4.2 Look at the feature importances"
   ]
  },
  {
   "cell_type": "code",
   "execution_count": 55,
   "metadata": {},
   "outputs": [
    {
     "data": {
      "image/png": "[encoded data removed]",
      "text/plain": [
       "<Figure size 576x576 with 1 Axes>"
      ]
     },
     "metadata": {
      "needs_background": "light"
     },
     "output_type": "display_data"
    }
   ],
   "source": [
    "plot_feature_importances(forest)"
   ]
  },
  {
   "cell_type": "markdown",
   "metadata": {},
   "source": [
    "Note: \"relationship\" represents what this individual is relative to others. For example an\n",
    "individual could be a Husband. Each entry only has one relationship, so it is a bit of a weird attribute.\n",
    "\n",
    "Also note that more features show up. This is a pretty typical result. "
   ]
  },
  {
   "cell_type": "markdown",
   "metadata": {},
   "source": [
    "### 4.3 Look at the trees in your forest"
   ]
  },
  {
   "cell_type": "markdown",
   "metadata": {},
   "source": [
    "Let's create a forest with some small trees. You'll learn how to access trees in your forest!\n",
    "\n",
    "In the cell below, create another `RandomForestClassifier`.  Set the number of estimators to 5, the `max_features` to 10, and the `max_depth` to 2."
   ]
  },
  {
   "cell_type": "code",
   "execution_count": 72,
   "metadata": {},
   "outputs": [
    {
     "data": {
      "text/plain": [
       "RandomForestClassifier(bootstrap=True, class_weight=None, criterion='gini',\n",
       "            max_depth=5, max_features=10, max_leaf_nodes=None,\n",
       "            min_impurity_decrease=0.0, min_impurity_split=None,\n",
       "            min_samples_leaf=1, min_samples_split=2,\n",
       "            min_weight_fraction_leaf=0.0, n_estimators=5, n_jobs=None,\n",
       "            oob_score=False, random_state=None, verbose=0,\n",
       "            warm_start=False)"
      ]
     },
     "execution_count": 72,
     "metadata": {},
     "output_type": "execute_result"
    }
   ],
   "source": [
    "forest_2 = RandomForestClassifier(n_estimators=5, criterion='gini', max_depth=5, min_samples_split=2, \n",
    "                                min_samples_leaf=1, min_weight_fraction_leaf=0.0, max_features=10, max_leaf_nodes=None, \n",
    "                                min_impurity_decrease=0.0, min_impurity_split=None, bootstrap=True, oob_score=False, n_jobs=None, \n",
    "                                random_state=None, verbose=0, warm_start=False, class_weight=None)\n",
    "forest_2.fit(X_train, y_train)\n"
   ]
  },
  {
   "cell_type": "code",
   "execution_count": 74,
   "metadata": {},
   "outputs": [
    {
     "data": {
      "text/plain": [
       "0.8065110565110565"
      ]
     },
     "execution_count": 74,
     "metadata": {},
     "output_type": "execute_result"
    }
   ],
   "source": [
    "forest_2.score(X_train, y_train)"
   ]
  },
  {
   "cell_type": "code",
   "execution_count": 73,
   "metadata": {},
   "outputs": [
    {
     "data": {
      "text/plain": [
       "0.7990173499155535"
      ]
     },
     "execution_count": 73,
     "metadata": {},
     "output_type": "execute_result"
    }
   ],
   "source": [
    "forest_2.score(X_test, y_test)"
   ]
  },
  {
   "cell_type": "markdown",
   "metadata": {},
   "source": [
    "Making `max_features` smaller will lead to very different trees in your forest!"
   ]
  },
  {
   "cell_type": "markdown",
   "metadata": {},
   "source": [
    "The trees in your forest are stored in the `.estimators_` attribute.\n",
    "\n",
    "In the cell below, get the first tree from `forest_2.estimators_` and store it in `rf_tree_1`"
   ]
  },
  {
   "cell_type": "code",
   "execution_count": 84,
   "metadata": {},
   "outputs": [
    {
     "data": {
      "text/plain": [
       "DecisionTreeClassifier(class_weight=None, criterion='gini', max_depth=5,\n",
       "            max_features=10, max_leaf_nodes=None,\n",
       "            min_impurity_decrease=0.0, min_impurity_split=None,\n",
       "            min_samples_leaf=1, min_samples_split=2,\n",
       "            min_weight_fraction_leaf=0.0, presort=False,\n",
       "            random_state=850015144, splitter='best')"
      ]
     },
     "execution_count": 84,
     "metadata": {},
     "output_type": "execute_result"
    }
   ],
   "source": [
    "rf_tree_1 = forest_2.estimators_[0]\n",
    "rf_tree_1"
   ]
  },
  {
   "cell_type": "markdown",
   "metadata": {},
   "source": [
    "Now, we can reuse ourn `plot_feature_importances` function to visualize which features this tree was given to use duing subspace sampling. \n",
    "\n",
    "In the cell below, call `plot_feature_importances` on `rf_tree_1`."
   ]
  },
  {
   "cell_type": "code",
   "execution_count": 85,
   "metadata": {},
   "outputs": [
    {
     "data": {
      "image/png": "[encoded data removed]",
      "text/plain": [
       "<Figure size 576x576 with 1 Axes>"
      ]
     },
     "metadata": {
      "needs_background": "light"
     },
     "output_type": "display_data"
    }
   ],
   "source": [
    "plot_feature_importances(rf_tree_1)"
   ]
  },
  {
   "cell_type": "markdown",
   "metadata": {},
   "source": [
    "Now, grab the second tree and store it in `rf_tree_2`, and then pass it to `plot_feature_importances` in the following cell so we can compare which features were most useful to each. "
   ]
  },
  {
   "cell_type": "code",
   "execution_count": 86,
   "metadata": {},
   "outputs": [],
   "source": [
    "rf_tree_2 = forest_2.estimators_[1]"
   ]
  },
  {
   "cell_type": "code",
   "execution_count": 88,
   "metadata": {},
   "outputs": [
    {
     "data": {
      "image/png": "[encoded data removed]",
      "text/plain": [
       "<Figure size 576x576 with 1 Axes>"
      ]
     },
     "metadata": {
      "needs_background": "light"
     },
     "output_type": "display_data"
    }
   ],
   "source": [
    "plot_feature_importances(rf_tree_2)"
   ]
  },
  {
   "cell_type": "markdown",
   "metadata": {},
   "source": [
    "We can see by comparing the two plots that the two trees we examined from our Random Forest look at different attributes, and have wildly different importances for them!\n",
    "\n",
    "## Summary\n",
    "\n",
    "In this lab, we got some practice creating a few different Tree Ensemble Methods. We also learned how to visualize feature importances, and compared individual trees from a Random Forest to see if we could notice the differences in the features they were trained on. "
   ]
  }
 ],
 "metadata": {
  "kernelspec": {
   "display_name": "Python 3",
   "language": "python",
   "name": "python3"
  },
  "language_info": {
   "codemirror_mode": {
    "name": "ipython",
    "version": 3
   },
   "file_extension": ".py",
   "mimetype": "text/x-python",
   "name": "python",
   "nbconvert_exporter": "python",
   "pygments_lexer": "ipython3",
   "version": "3.6.6"
  }
 },
 "nbformat": 4,
 "nbformat_minor": 2
}
